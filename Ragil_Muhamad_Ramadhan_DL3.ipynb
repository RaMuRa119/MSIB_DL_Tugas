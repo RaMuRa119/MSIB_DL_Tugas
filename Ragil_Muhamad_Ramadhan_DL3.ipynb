{
  "nbformat": 4,
  "nbformat_minor": 0,
  "metadata": {
    "colab": {
      "provenance": []
    },
    "kernelspec": {
      "name": "python3",
      "display_name": "Python 3"
    },
    "language_info": {
      "name": "python"
    }
  },
  "cells": [
    {
      "cell_type": "code",
      "execution_count": null,
      "metadata": {
        "id": "SzSwnJLYySgk"
      },
      "outputs": [],
      "source": [
        "import pandas as pd\n",
        "import numpy as np\n",
        "import seaborn as sns\n",
        "import matplotlib.pyplot as plt\n",
        "from google.colab import drive\n",
        "from sklearn.preprocessing import OneHotEncoder"
      ]
    },
    {
      "cell_type": "markdown",
      "source": [
        "##Preprocessing"
      ],
      "metadata": {
        "id": "wj2QCujhytKd"
      }
    },
    {
      "cell_type": "code",
      "source": [
        "#akses drive\n",
        "drive.mount('/content/drive')\n",
        "\n",
        "# initialize directory path\n",
        "path = \"/content/drive/MyDrive/MSIB/Tugas 3/insurance.csv\""
      ],
      "metadata": {
        "colab": {
          "base_uri": "https://localhost:8080/"
        },
        "id": "vM1zpSWtyiid",
        "outputId": "9b9d89cd-6e5c-468f-d644-21fd2fbb0ef8"
      },
      "execution_count": null,
      "outputs": [
        {
          "output_type": "stream",
          "name": "stdout",
          "text": [
            "Drive already mounted at /content/drive; to attempt to forcibly remount, call drive.mount(\"/content/drive\", force_remount=True).\n"
          ]
        }
      ]
    },
    {
      "cell_type": "code",
      "source": [
        "# load csv file using pandas\n",
        "df = pd.read_csv(path)\n",
        "\n",
        "# data shape (row, columns)\n",
        "df.shape"
      ],
      "metadata": {
        "colab": {
          "base_uri": "https://localhost:8080/"
        },
        "id": "h2myGHU4yq0-",
        "outputId": "e7b03df6-d07b-459e-d0dc-e47c16f129cf"
      },
      "execution_count": null,
      "outputs": [
        {
          "output_type": "execute_result",
          "data": {
            "text/plain": [
              "(1338, 7)"
            ]
          },
          "metadata": {},
          "execution_count": 4
        }
      ]
    },
    {
      "cell_type": "code",
      "source": [
        "df.head()"
      ],
      "metadata": {
        "colab": {
          "base_uri": "https://localhost:8080/",
          "height": 206
        },
        "id": "nt2cDAkyyyrH",
        "outputId": "92907b9a-2b2f-47cc-9c68-b9923200eb00"
      },
      "execution_count": null,
      "outputs": [
        {
          "output_type": "execute_result",
          "data": {
            "text/plain": [
              "   age     sex     bmi  children smoker     region      charges\n",
              "0   19  female  27.900         0    yes  southwest  16884.92400\n",
              "1   18    male  33.770         1     no  southeast   1725.55230\n",
              "2   28    male  33.000         3     no  southeast   4449.46200\n",
              "3   33    male  22.705         0     no  northwest  21984.47061\n",
              "4   32    male  28.880         0     no  northwest   3866.85520"
            ],
            "text/html": [
              "\n",
              "  <div id=\"df-1a9d473b-9897-472c-a026-d4480f9e40ac\" class=\"colab-df-container\">\n",
              "    <div>\n",
              "<style scoped>\n",
              "    .dataframe tbody tr th:only-of-type {\n",
              "        vertical-align: middle;\n",
              "    }\n",
              "\n",
              "    .dataframe tbody tr th {\n",
              "        vertical-align: top;\n",
              "    }\n",
              "\n",
              "    .dataframe thead th {\n",
              "        text-align: right;\n",
              "    }\n",
              "</style>\n",
              "<table border=\"1\" class=\"dataframe\">\n",
              "  <thead>\n",
              "    <tr style=\"text-align: right;\">\n",
              "      <th></th>\n",
              "      <th>age</th>\n",
              "      <th>sex</th>\n",
              "      <th>bmi</th>\n",
              "      <th>children</th>\n",
              "      <th>smoker</th>\n",
              "      <th>region</th>\n",
              "      <th>charges</th>\n",
              "    </tr>\n",
              "  </thead>\n",
              "  <tbody>\n",
              "    <tr>\n",
              "      <th>0</th>\n",
              "      <td>19</td>\n",
              "      <td>female</td>\n",
              "      <td>27.900</td>\n",
              "      <td>0</td>\n",
              "      <td>yes</td>\n",
              "      <td>southwest</td>\n",
              "      <td>16884.92400</td>\n",
              "    </tr>\n",
              "    <tr>\n",
              "      <th>1</th>\n",
              "      <td>18</td>\n",
              "      <td>male</td>\n",
              "      <td>33.770</td>\n",
              "      <td>1</td>\n",
              "      <td>no</td>\n",
              "      <td>southeast</td>\n",
              "      <td>1725.55230</td>\n",
              "    </tr>\n",
              "    <tr>\n",
              "      <th>2</th>\n",
              "      <td>28</td>\n",
              "      <td>male</td>\n",
              "      <td>33.000</td>\n",
              "      <td>3</td>\n",
              "      <td>no</td>\n",
              "      <td>southeast</td>\n",
              "      <td>4449.46200</td>\n",
              "    </tr>\n",
              "    <tr>\n",
              "      <th>3</th>\n",
              "      <td>33</td>\n",
              "      <td>male</td>\n",
              "      <td>22.705</td>\n",
              "      <td>0</td>\n",
              "      <td>no</td>\n",
              "      <td>northwest</td>\n",
              "      <td>21984.47061</td>\n",
              "    </tr>\n",
              "    <tr>\n",
              "      <th>4</th>\n",
              "      <td>32</td>\n",
              "      <td>male</td>\n",
              "      <td>28.880</td>\n",
              "      <td>0</td>\n",
              "      <td>no</td>\n",
              "      <td>northwest</td>\n",
              "      <td>3866.85520</td>\n",
              "    </tr>\n",
              "  </tbody>\n",
              "</table>\n",
              "</div>\n",
              "    <div class=\"colab-df-buttons\">\n",
              "\n",
              "  <div class=\"colab-df-container\">\n",
              "    <button class=\"colab-df-convert\" onclick=\"convertToInteractive('df-1a9d473b-9897-472c-a026-d4480f9e40ac')\"\n",
              "            title=\"Convert this dataframe to an interactive table.\"\n",
              "            style=\"display:none;\">\n",
              "\n",
              "  <svg xmlns=\"http://www.w3.org/2000/svg\" height=\"24px\" viewBox=\"0 -960 960 960\">\n",
              "    <path d=\"M120-120v-720h720v720H120Zm60-500h600v-160H180v160Zm220 220h160v-160H400v160Zm0 220h160v-160H400v160ZM180-400h160v-160H180v160Zm440 0h160v-160H620v160ZM180-180h160v-160H180v160Zm440 0h160v-160H620v160Z\"/>\n",
              "  </svg>\n",
              "    </button>\n",
              "\n",
              "  <style>\n",
              "    .colab-df-container {\n",
              "      display:flex;\n",
              "      gap: 12px;\n",
              "    }\n",
              "\n",
              "    .colab-df-convert {\n",
              "      background-color: #E8F0FE;\n",
              "      border: none;\n",
              "      border-radius: 50%;\n",
              "      cursor: pointer;\n",
              "      display: none;\n",
              "      fill: #1967D2;\n",
              "      height: 32px;\n",
              "      padding: 0 0 0 0;\n",
              "      width: 32px;\n",
              "    }\n",
              "\n",
              "    .colab-df-convert:hover {\n",
              "      background-color: #E2EBFA;\n",
              "      box-shadow: 0px 1px 2px rgba(60, 64, 67, 0.3), 0px 1px 3px 1px rgba(60, 64, 67, 0.15);\n",
              "      fill: #174EA6;\n",
              "    }\n",
              "\n",
              "    .colab-df-buttons div {\n",
              "      margin-bottom: 4px;\n",
              "    }\n",
              "\n",
              "    [theme=dark] .colab-df-convert {\n",
              "      background-color: #3B4455;\n",
              "      fill: #D2E3FC;\n",
              "    }\n",
              "\n",
              "    [theme=dark] .colab-df-convert:hover {\n",
              "      background-color: #434B5C;\n",
              "      box-shadow: 0px 1px 3px 1px rgba(0, 0, 0, 0.15);\n",
              "      filter: drop-shadow(0px 1px 2px rgba(0, 0, 0, 0.3));\n",
              "      fill: #FFFFFF;\n",
              "    }\n",
              "  </style>\n",
              "\n",
              "    <script>\n",
              "      const buttonEl =\n",
              "        document.querySelector('#df-1a9d473b-9897-472c-a026-d4480f9e40ac button.colab-df-convert');\n",
              "      buttonEl.style.display =\n",
              "        google.colab.kernel.accessAllowed ? 'block' : 'none';\n",
              "\n",
              "      async function convertToInteractive(key) {\n",
              "        const element = document.querySelector('#df-1a9d473b-9897-472c-a026-d4480f9e40ac');\n",
              "        const dataTable =\n",
              "          await google.colab.kernel.invokeFunction('convertToInteractive',\n",
              "                                                    [key], {});\n",
              "        if (!dataTable) return;\n",
              "\n",
              "        const docLinkHtml = 'Like what you see? Visit the ' +\n",
              "          '<a target=\"_blank\" href=https://colab.research.google.com/notebooks/data_table.ipynb>data table notebook</a>'\n",
              "          + ' to learn more about interactive tables.';\n",
              "        element.innerHTML = '';\n",
              "        dataTable['output_type'] = 'display_data';\n",
              "        await google.colab.output.renderOutput(dataTable, element);\n",
              "        const docLink = document.createElement('div');\n",
              "        docLink.innerHTML = docLinkHtml;\n",
              "        element.appendChild(docLink);\n",
              "      }\n",
              "    </script>\n",
              "  </div>\n",
              "\n",
              "\n",
              "<div id=\"df-f6f3e45a-f511-4cb5-b955-61e7926975fc\">\n",
              "  <button class=\"colab-df-quickchart\" onclick=\"quickchart('df-f6f3e45a-f511-4cb5-b955-61e7926975fc')\"\n",
              "            title=\"Suggest charts\"\n",
              "            style=\"display:none;\">\n",
              "\n",
              "<svg xmlns=\"http://www.w3.org/2000/svg\" height=\"24px\"viewBox=\"0 0 24 24\"\n",
              "     width=\"24px\">\n",
              "    <g>\n",
              "        <path d=\"M19 3H5c-1.1 0-2 .9-2 2v14c0 1.1.9 2 2 2h14c1.1 0 2-.9 2-2V5c0-1.1-.9-2-2-2zM9 17H7v-7h2v7zm4 0h-2V7h2v10zm4 0h-2v-4h2v4z\"/>\n",
              "    </g>\n",
              "</svg>\n",
              "  </button>\n",
              "\n",
              "<style>\n",
              "  .colab-df-quickchart {\n",
              "      --bg-color: #E8F0FE;\n",
              "      --fill-color: #1967D2;\n",
              "      --hover-bg-color: #E2EBFA;\n",
              "      --hover-fill-color: #174EA6;\n",
              "      --disabled-fill-color: #AAA;\n",
              "      --disabled-bg-color: #DDD;\n",
              "  }\n",
              "\n",
              "  [theme=dark] .colab-df-quickchart {\n",
              "      --bg-color: #3B4455;\n",
              "      --fill-color: #D2E3FC;\n",
              "      --hover-bg-color: #434B5C;\n",
              "      --hover-fill-color: #FFFFFF;\n",
              "      --disabled-bg-color: #3B4455;\n",
              "      --disabled-fill-color: #666;\n",
              "  }\n",
              "\n",
              "  .colab-df-quickchart {\n",
              "    background-color: var(--bg-color);\n",
              "    border: none;\n",
              "    border-radius: 50%;\n",
              "    cursor: pointer;\n",
              "    display: none;\n",
              "    fill: var(--fill-color);\n",
              "    height: 32px;\n",
              "    padding: 0;\n",
              "    width: 32px;\n",
              "  }\n",
              "\n",
              "  .colab-df-quickchart:hover {\n",
              "    background-color: var(--hover-bg-color);\n",
              "    box-shadow: 0 1px 2px rgba(60, 64, 67, 0.3), 0 1px 3px 1px rgba(60, 64, 67, 0.15);\n",
              "    fill: var(--button-hover-fill-color);\n",
              "  }\n",
              "\n",
              "  .colab-df-quickchart-complete:disabled,\n",
              "  .colab-df-quickchart-complete:disabled:hover {\n",
              "    background-color: var(--disabled-bg-color);\n",
              "    fill: var(--disabled-fill-color);\n",
              "    box-shadow: none;\n",
              "  }\n",
              "\n",
              "  .colab-df-spinner {\n",
              "    border: 2px solid var(--fill-color);\n",
              "    border-color: transparent;\n",
              "    border-bottom-color: var(--fill-color);\n",
              "    animation:\n",
              "      spin 1s steps(1) infinite;\n",
              "  }\n",
              "\n",
              "  @keyframes spin {\n",
              "    0% {\n",
              "      border-color: transparent;\n",
              "      border-bottom-color: var(--fill-color);\n",
              "      border-left-color: var(--fill-color);\n",
              "    }\n",
              "    20% {\n",
              "      border-color: transparent;\n",
              "      border-left-color: var(--fill-color);\n",
              "      border-top-color: var(--fill-color);\n",
              "    }\n",
              "    30% {\n",
              "      border-color: transparent;\n",
              "      border-left-color: var(--fill-color);\n",
              "      border-top-color: var(--fill-color);\n",
              "      border-right-color: var(--fill-color);\n",
              "    }\n",
              "    40% {\n",
              "      border-color: transparent;\n",
              "      border-right-color: var(--fill-color);\n",
              "      border-top-color: var(--fill-color);\n",
              "    }\n",
              "    60% {\n",
              "      border-color: transparent;\n",
              "      border-right-color: var(--fill-color);\n",
              "    }\n",
              "    80% {\n",
              "      border-color: transparent;\n",
              "      border-right-color: var(--fill-color);\n",
              "      border-bottom-color: var(--fill-color);\n",
              "    }\n",
              "    90% {\n",
              "      border-color: transparent;\n",
              "      border-bottom-color: var(--fill-color);\n",
              "    }\n",
              "  }\n",
              "</style>\n",
              "\n",
              "  <script>\n",
              "    async function quickchart(key) {\n",
              "      const quickchartButtonEl =\n",
              "        document.querySelector('#' + key + ' button');\n",
              "      quickchartButtonEl.disabled = true;  // To prevent multiple clicks.\n",
              "      quickchartButtonEl.classList.add('colab-df-spinner');\n",
              "      try {\n",
              "        const charts = await google.colab.kernel.invokeFunction(\n",
              "            'suggestCharts', [key], {});\n",
              "      } catch (error) {\n",
              "        console.error('Error during call to suggestCharts:', error);\n",
              "      }\n",
              "      quickchartButtonEl.classList.remove('colab-df-spinner');\n",
              "      quickchartButtonEl.classList.add('colab-df-quickchart-complete');\n",
              "    }\n",
              "    (() => {\n",
              "      let quickchartButtonEl =\n",
              "        document.querySelector('#df-f6f3e45a-f511-4cb5-b955-61e7926975fc button');\n",
              "      quickchartButtonEl.style.display =\n",
              "        google.colab.kernel.accessAllowed ? 'block' : 'none';\n",
              "    })();\n",
              "  </script>\n",
              "</div>\n",
              "    </div>\n",
              "  </div>\n"
            ],
            "application/vnd.google.colaboratory.intrinsic+json": {
              "type": "dataframe",
              "variable_name": "df",
              "summary": "{\n  \"name\": \"df\",\n  \"rows\": 1338,\n  \"fields\": [\n    {\n      \"column\": \"age\",\n      \"properties\": {\n        \"dtype\": \"number\",\n        \"std\": 14,\n        \"min\": 18,\n        \"max\": 64,\n        \"num_unique_values\": 47,\n        \"samples\": [\n          21,\n          45,\n          36\n        ],\n        \"semantic_type\": \"\",\n        \"description\": \"\"\n      }\n    },\n    {\n      \"column\": \"sex\",\n      \"properties\": {\n        \"dtype\": \"category\",\n        \"num_unique_values\": 2,\n        \"samples\": [\n          \"male\",\n          \"female\"\n        ],\n        \"semantic_type\": \"\",\n        \"description\": \"\"\n      }\n    },\n    {\n      \"column\": \"bmi\",\n      \"properties\": {\n        \"dtype\": \"number\",\n        \"std\": 6.098186911679014,\n        \"min\": 15.96,\n        \"max\": 53.13,\n        \"num_unique_values\": 548,\n        \"samples\": [\n          23.18,\n          26.885\n        ],\n        \"semantic_type\": \"\",\n        \"description\": \"\"\n      }\n    },\n    {\n      \"column\": \"children\",\n      \"properties\": {\n        \"dtype\": \"number\",\n        \"std\": 1,\n        \"min\": 0,\n        \"max\": 5,\n        \"num_unique_values\": 6,\n        \"samples\": [\n          0,\n          1\n        ],\n        \"semantic_type\": \"\",\n        \"description\": \"\"\n      }\n    },\n    {\n      \"column\": \"smoker\",\n      \"properties\": {\n        \"dtype\": \"category\",\n        \"num_unique_values\": 2,\n        \"samples\": [\n          \"no\",\n          \"yes\"\n        ],\n        \"semantic_type\": \"\",\n        \"description\": \"\"\n      }\n    },\n    {\n      \"column\": \"region\",\n      \"properties\": {\n        \"dtype\": \"category\",\n        \"num_unique_values\": 4,\n        \"samples\": [\n          \"southeast\",\n          \"northeast\"\n        ],\n        \"semantic_type\": \"\",\n        \"description\": \"\"\n      }\n    },\n    {\n      \"column\": \"charges\",\n      \"properties\": {\n        \"dtype\": \"number\",\n        \"std\": 12110.011236694001,\n        \"min\": 1121.8739,\n        \"max\": 63770.42801,\n        \"num_unique_values\": 1337,\n        \"samples\": [\n          8688.85885,\n          5708.867\n        ],\n        \"semantic_type\": \"\",\n        \"description\": \"\"\n      }\n    }\n  ]\n}"
            }
          },
          "metadata": {},
          "execution_count": 5
        }
      ]
    },
    {
      "cell_type": "code",
      "source": [
        "df.info()"
      ],
      "metadata": {
        "colab": {
          "base_uri": "https://localhost:8080/"
        },
        "id": "CArX3TlRy1mV",
        "outputId": "665af8a3-48e4-4552-cfb0-518877b84485"
      },
      "execution_count": null,
      "outputs": [
        {
          "output_type": "stream",
          "name": "stdout",
          "text": [
            "<class 'pandas.core.frame.DataFrame'>\n",
            "RangeIndex: 1338 entries, 0 to 1337\n",
            "Data columns (total 7 columns):\n",
            " #   Column    Non-Null Count  Dtype  \n",
            "---  ------    --------------  -----  \n",
            " 0   age       1338 non-null   int64  \n",
            " 1   sex       1338 non-null   object \n",
            " 2   bmi       1338 non-null   float64\n",
            " 3   children  1338 non-null   int64  \n",
            " 4   smoker    1338 non-null   object \n",
            " 5   region    1338 non-null   object \n",
            " 6   charges   1338 non-null   float64\n",
            "dtypes: float64(2), int64(2), object(3)\n",
            "memory usage: 73.3+ KB\n"
          ]
        }
      ]
    },
    {
      "cell_type": "code",
      "source": [
        "df.describe()"
      ],
      "metadata": {
        "colab": {
          "base_uri": "https://localhost:8080/",
          "height": 300
        },
        "id": "dPzF6Q1VzM7Y",
        "outputId": "c695a7dd-e69d-4967-b734-37fd7133c5a1"
      },
      "execution_count": null,
      "outputs": [
        {
          "output_type": "execute_result",
          "data": {
            "text/plain": [
              "               age          bmi     children       charges\n",
              "count  1338.000000  1338.000000  1338.000000   1338.000000\n",
              "mean     39.207025    30.663397     1.094918  13270.422265\n",
              "std      14.049960     6.098187     1.205493  12110.011237\n",
              "min      18.000000    15.960000     0.000000   1121.873900\n",
              "25%      27.000000    26.296250     0.000000   4740.287150\n",
              "50%      39.000000    30.400000     1.000000   9382.033000\n",
              "75%      51.000000    34.693750     2.000000  16639.912515\n",
              "max      64.000000    53.130000     5.000000  63770.428010"
            ],
            "text/html": [
              "\n",
              "  <div id=\"df-a73d1c13-88ef-481a-aafe-c81fb7249348\" class=\"colab-df-container\">\n",
              "    <div>\n",
              "<style scoped>\n",
              "    .dataframe tbody tr th:only-of-type {\n",
              "        vertical-align: middle;\n",
              "    }\n",
              "\n",
              "    .dataframe tbody tr th {\n",
              "        vertical-align: top;\n",
              "    }\n",
              "\n",
              "    .dataframe thead th {\n",
              "        text-align: right;\n",
              "    }\n",
              "</style>\n",
              "<table border=\"1\" class=\"dataframe\">\n",
              "  <thead>\n",
              "    <tr style=\"text-align: right;\">\n",
              "      <th></th>\n",
              "      <th>age</th>\n",
              "      <th>bmi</th>\n",
              "      <th>children</th>\n",
              "      <th>charges</th>\n",
              "    </tr>\n",
              "  </thead>\n",
              "  <tbody>\n",
              "    <tr>\n",
              "      <th>count</th>\n",
              "      <td>1338.000000</td>\n",
              "      <td>1338.000000</td>\n",
              "      <td>1338.000000</td>\n",
              "      <td>1338.000000</td>\n",
              "    </tr>\n",
              "    <tr>\n",
              "      <th>mean</th>\n",
              "      <td>39.207025</td>\n",
              "      <td>30.663397</td>\n",
              "      <td>1.094918</td>\n",
              "      <td>13270.422265</td>\n",
              "    </tr>\n",
              "    <tr>\n",
              "      <th>std</th>\n",
              "      <td>14.049960</td>\n",
              "      <td>6.098187</td>\n",
              "      <td>1.205493</td>\n",
              "      <td>12110.011237</td>\n",
              "    </tr>\n",
              "    <tr>\n",
              "      <th>min</th>\n",
              "      <td>18.000000</td>\n",
              "      <td>15.960000</td>\n",
              "      <td>0.000000</td>\n",
              "      <td>1121.873900</td>\n",
              "    </tr>\n",
              "    <tr>\n",
              "      <th>25%</th>\n",
              "      <td>27.000000</td>\n",
              "      <td>26.296250</td>\n",
              "      <td>0.000000</td>\n",
              "      <td>4740.287150</td>\n",
              "    </tr>\n",
              "    <tr>\n",
              "      <th>50%</th>\n",
              "      <td>39.000000</td>\n",
              "      <td>30.400000</td>\n",
              "      <td>1.000000</td>\n",
              "      <td>9382.033000</td>\n",
              "    </tr>\n",
              "    <tr>\n",
              "      <th>75%</th>\n",
              "      <td>51.000000</td>\n",
              "      <td>34.693750</td>\n",
              "      <td>2.000000</td>\n",
              "      <td>16639.912515</td>\n",
              "    </tr>\n",
              "    <tr>\n",
              "      <th>max</th>\n",
              "      <td>64.000000</td>\n",
              "      <td>53.130000</td>\n",
              "      <td>5.000000</td>\n",
              "      <td>63770.428010</td>\n",
              "    </tr>\n",
              "  </tbody>\n",
              "</table>\n",
              "</div>\n",
              "    <div class=\"colab-df-buttons\">\n",
              "\n",
              "  <div class=\"colab-df-container\">\n",
              "    <button class=\"colab-df-convert\" onclick=\"convertToInteractive('df-a73d1c13-88ef-481a-aafe-c81fb7249348')\"\n",
              "            title=\"Convert this dataframe to an interactive table.\"\n",
              "            style=\"display:none;\">\n",
              "\n",
              "  <svg xmlns=\"http://www.w3.org/2000/svg\" height=\"24px\" viewBox=\"0 -960 960 960\">\n",
              "    <path d=\"M120-120v-720h720v720H120Zm60-500h600v-160H180v160Zm220 220h160v-160H400v160Zm0 220h160v-160H400v160ZM180-400h160v-160H180v160Zm440 0h160v-160H620v160ZM180-180h160v-160H180v160Zm440 0h160v-160H620v160Z\"/>\n",
              "  </svg>\n",
              "    </button>\n",
              "\n",
              "  <style>\n",
              "    .colab-df-container {\n",
              "      display:flex;\n",
              "      gap: 12px;\n",
              "    }\n",
              "\n",
              "    .colab-df-convert {\n",
              "      background-color: #E8F0FE;\n",
              "      border: none;\n",
              "      border-radius: 50%;\n",
              "      cursor: pointer;\n",
              "      display: none;\n",
              "      fill: #1967D2;\n",
              "      height: 32px;\n",
              "      padding: 0 0 0 0;\n",
              "      width: 32px;\n",
              "    }\n",
              "\n",
              "    .colab-df-convert:hover {\n",
              "      background-color: #E2EBFA;\n",
              "      box-shadow: 0px 1px 2px rgba(60, 64, 67, 0.3), 0px 1px 3px 1px rgba(60, 64, 67, 0.15);\n",
              "      fill: #174EA6;\n",
              "    }\n",
              "\n",
              "    .colab-df-buttons div {\n",
              "      margin-bottom: 4px;\n",
              "    }\n",
              "\n",
              "    [theme=dark] .colab-df-convert {\n",
              "      background-color: #3B4455;\n",
              "      fill: #D2E3FC;\n",
              "    }\n",
              "\n",
              "    [theme=dark] .colab-df-convert:hover {\n",
              "      background-color: #434B5C;\n",
              "      box-shadow: 0px 1px 3px 1px rgba(0, 0, 0, 0.15);\n",
              "      filter: drop-shadow(0px 1px 2px rgba(0, 0, 0, 0.3));\n",
              "      fill: #FFFFFF;\n",
              "    }\n",
              "  </style>\n",
              "\n",
              "    <script>\n",
              "      const buttonEl =\n",
              "        document.querySelector('#df-a73d1c13-88ef-481a-aafe-c81fb7249348 button.colab-df-convert');\n",
              "      buttonEl.style.display =\n",
              "        google.colab.kernel.accessAllowed ? 'block' : 'none';\n",
              "\n",
              "      async function convertToInteractive(key) {\n",
              "        const element = document.querySelector('#df-a73d1c13-88ef-481a-aafe-c81fb7249348');\n",
              "        const dataTable =\n",
              "          await google.colab.kernel.invokeFunction('convertToInteractive',\n",
              "                                                    [key], {});\n",
              "        if (!dataTable) return;\n",
              "\n",
              "        const docLinkHtml = 'Like what you see? Visit the ' +\n",
              "          '<a target=\"_blank\" href=https://colab.research.google.com/notebooks/data_table.ipynb>data table notebook</a>'\n",
              "          + ' to learn more about interactive tables.';\n",
              "        element.innerHTML = '';\n",
              "        dataTable['output_type'] = 'display_data';\n",
              "        await google.colab.output.renderOutput(dataTable, element);\n",
              "        const docLink = document.createElement('div');\n",
              "        docLink.innerHTML = docLinkHtml;\n",
              "        element.appendChild(docLink);\n",
              "      }\n",
              "    </script>\n",
              "  </div>\n",
              "\n",
              "\n",
              "<div id=\"df-d834bb30-33e6-4279-8096-12e8490eb6da\">\n",
              "  <button class=\"colab-df-quickchart\" onclick=\"quickchart('df-d834bb30-33e6-4279-8096-12e8490eb6da')\"\n",
              "            title=\"Suggest charts\"\n",
              "            style=\"display:none;\">\n",
              "\n",
              "<svg xmlns=\"http://www.w3.org/2000/svg\" height=\"24px\"viewBox=\"0 0 24 24\"\n",
              "     width=\"24px\">\n",
              "    <g>\n",
              "        <path d=\"M19 3H5c-1.1 0-2 .9-2 2v14c0 1.1.9 2 2 2h14c1.1 0 2-.9 2-2V5c0-1.1-.9-2-2-2zM9 17H7v-7h2v7zm4 0h-2V7h2v10zm4 0h-2v-4h2v4z\"/>\n",
              "    </g>\n",
              "</svg>\n",
              "  </button>\n",
              "\n",
              "<style>\n",
              "  .colab-df-quickchart {\n",
              "      --bg-color: #E8F0FE;\n",
              "      --fill-color: #1967D2;\n",
              "      --hover-bg-color: #E2EBFA;\n",
              "      --hover-fill-color: #174EA6;\n",
              "      --disabled-fill-color: #AAA;\n",
              "      --disabled-bg-color: #DDD;\n",
              "  }\n",
              "\n",
              "  [theme=dark] .colab-df-quickchart {\n",
              "      --bg-color: #3B4455;\n",
              "      --fill-color: #D2E3FC;\n",
              "      --hover-bg-color: #434B5C;\n",
              "      --hover-fill-color: #FFFFFF;\n",
              "      --disabled-bg-color: #3B4455;\n",
              "      --disabled-fill-color: #666;\n",
              "  }\n",
              "\n",
              "  .colab-df-quickchart {\n",
              "    background-color: var(--bg-color);\n",
              "    border: none;\n",
              "    border-radius: 50%;\n",
              "    cursor: pointer;\n",
              "    display: none;\n",
              "    fill: var(--fill-color);\n",
              "    height: 32px;\n",
              "    padding: 0;\n",
              "    width: 32px;\n",
              "  }\n",
              "\n",
              "  .colab-df-quickchart:hover {\n",
              "    background-color: var(--hover-bg-color);\n",
              "    box-shadow: 0 1px 2px rgba(60, 64, 67, 0.3), 0 1px 3px 1px rgba(60, 64, 67, 0.15);\n",
              "    fill: var(--button-hover-fill-color);\n",
              "  }\n",
              "\n",
              "  .colab-df-quickchart-complete:disabled,\n",
              "  .colab-df-quickchart-complete:disabled:hover {\n",
              "    background-color: var(--disabled-bg-color);\n",
              "    fill: var(--disabled-fill-color);\n",
              "    box-shadow: none;\n",
              "  }\n",
              "\n",
              "  .colab-df-spinner {\n",
              "    border: 2px solid var(--fill-color);\n",
              "    border-color: transparent;\n",
              "    border-bottom-color: var(--fill-color);\n",
              "    animation:\n",
              "      spin 1s steps(1) infinite;\n",
              "  }\n",
              "\n",
              "  @keyframes spin {\n",
              "    0% {\n",
              "      border-color: transparent;\n",
              "      border-bottom-color: var(--fill-color);\n",
              "      border-left-color: var(--fill-color);\n",
              "    }\n",
              "    20% {\n",
              "      border-color: transparent;\n",
              "      border-left-color: var(--fill-color);\n",
              "      border-top-color: var(--fill-color);\n",
              "    }\n",
              "    30% {\n",
              "      border-color: transparent;\n",
              "      border-left-color: var(--fill-color);\n",
              "      border-top-color: var(--fill-color);\n",
              "      border-right-color: var(--fill-color);\n",
              "    }\n",
              "    40% {\n",
              "      border-color: transparent;\n",
              "      border-right-color: var(--fill-color);\n",
              "      border-top-color: var(--fill-color);\n",
              "    }\n",
              "    60% {\n",
              "      border-color: transparent;\n",
              "      border-right-color: var(--fill-color);\n",
              "    }\n",
              "    80% {\n",
              "      border-color: transparent;\n",
              "      border-right-color: var(--fill-color);\n",
              "      border-bottom-color: var(--fill-color);\n",
              "    }\n",
              "    90% {\n",
              "      border-color: transparent;\n",
              "      border-bottom-color: var(--fill-color);\n",
              "    }\n",
              "  }\n",
              "</style>\n",
              "\n",
              "  <script>\n",
              "    async function quickchart(key) {\n",
              "      const quickchartButtonEl =\n",
              "        document.querySelector('#' + key + ' button');\n",
              "      quickchartButtonEl.disabled = true;  // To prevent multiple clicks.\n",
              "      quickchartButtonEl.classList.add('colab-df-spinner');\n",
              "      try {\n",
              "        const charts = await google.colab.kernel.invokeFunction(\n",
              "            'suggestCharts', [key], {});\n",
              "      } catch (error) {\n",
              "        console.error('Error during call to suggestCharts:', error);\n",
              "      }\n",
              "      quickchartButtonEl.classList.remove('colab-df-spinner');\n",
              "      quickchartButtonEl.classList.add('colab-df-quickchart-complete');\n",
              "    }\n",
              "    (() => {\n",
              "      let quickchartButtonEl =\n",
              "        document.querySelector('#df-d834bb30-33e6-4279-8096-12e8490eb6da button');\n",
              "      quickchartButtonEl.style.display =\n",
              "        google.colab.kernel.accessAllowed ? 'block' : 'none';\n",
              "    })();\n",
              "  </script>\n",
              "</div>\n",
              "    </div>\n",
              "  </div>\n"
            ],
            "application/vnd.google.colaboratory.intrinsic+json": {
              "type": "dataframe",
              "summary": "{\n  \"name\": \"df\",\n  \"rows\": 8,\n  \"fields\": [\n    {\n      \"column\": \"age\",\n      \"properties\": {\n        \"dtype\": \"number\",\n        \"std\": 460.6106090399993,\n        \"min\": 14.049960379216154,\n        \"max\": 1338.0,\n        \"num_unique_values\": 8,\n        \"samples\": [\n          39.20702541106129,\n          39.0,\n          1338.0\n        ],\n        \"semantic_type\": \"\",\n        \"description\": \"\"\n      }\n    },\n    {\n      \"column\": \"bmi\",\n      \"properties\": {\n        \"dtype\": \"number\",\n        \"std\": 463.29524977918294,\n        \"min\": 6.098186911679014,\n        \"max\": 1338.0,\n        \"num_unique_values\": 8,\n        \"samples\": [\n          30.66339686098655,\n          30.4,\n          1338.0\n        ],\n        \"semantic_type\": \"\",\n        \"description\": \"\"\n      }\n    },\n    {\n      \"column\": \"children\",\n      \"properties\": {\n        \"dtype\": \"number\",\n        \"std\": 472.5368318870757,\n        \"min\": 0.0,\n        \"max\": 1338.0,\n        \"num_unique_values\": 7,\n        \"samples\": [\n          1338.0,\n          1.0949177877429,\n          2.0\n        ],\n        \"semantic_type\": \"\",\n        \"description\": \"\"\n      }\n    },\n    {\n      \"column\": \"charges\",\n      \"properties\": {\n        \"dtype\": \"number\",\n        \"std\": 20381.922846226596,\n        \"min\": 1121.8739,\n        \"max\": 63770.42801,\n        \"num_unique_values\": 8,\n        \"samples\": [\n          13270.422265141257,\n          9382.033,\n          1338.0\n        ],\n        \"semantic_type\": \"\",\n        \"description\": \"\"\n      }\n    }\n  ]\n}"
            }
          },
          "metadata": {},
          "execution_count": 7
        }
      ]
    },
    {
      "cell_type": "code",
      "source": [
        "df.isnull().sum()"
      ],
      "metadata": {
        "colab": {
          "base_uri": "https://localhost:8080/"
        },
        "id": "HP_5AfHgz2kO",
        "outputId": "43f373b9-652a-4ddf-bdf4-12d0557311e8"
      },
      "execution_count": null,
      "outputs": [
        {
          "output_type": "execute_result",
          "data": {
            "text/plain": [
              "age         0\n",
              "sex         0\n",
              "bmi         0\n",
              "children    0\n",
              "smoker      0\n",
              "region      0\n",
              "charges     0\n",
              "dtype: int64"
            ]
          },
          "metadata": {},
          "execution_count": 8
        }
      ]
    },
    {
      "cell_type": "code",
      "source": [
        "# one hot encoding for process string type features\n",
        "encoder = OneHotEncoder()\n",
        "df_encoded = encoder.fit_transform(df.iloc[:,:6])"
      ],
      "metadata": {
        "id": "j6ebKdYIz-al"
      },
      "execution_count": null,
      "outputs": []
    },
    {
      "cell_type": "code",
      "source": [
        "x = df_encoded\n",
        "y = df.iloc[:,6:]\n",
        "print(x.shape)\n",
        "print(y.shape)"
      ],
      "metadata": {
        "colab": {
          "base_uri": "https://localhost:8080/"
        },
        "id": "u1Eccnma0Sxn",
        "outputId": "bbe4589c-8e99-42ba-bfc6-0f8cce1fbdb7"
      },
      "execution_count": null,
      "outputs": [
        {
          "output_type": "stream",
          "name": "stdout",
          "text": [
            "(1338, 609)\n",
            "(1338, 1)\n"
          ]
        }
      ]
    },
    {
      "cell_type": "markdown",
      "source": [
        "##Modeling Lineaar Regression"
      ],
      "metadata": {
        "id": "vzQhVVqy1mCf"
      }
    },
    {
      "cell_type": "code",
      "source": [
        "from sklearn.model_selection import train_test_split\n",
        "from sklearn.linear_model import LinearRegression\n",
        "\n",
        "x_train, x_test, y_train, y_test = train_test_split(\n",
        "    x, y, test_size=0.2, random_state=42)\n",
        "\n",
        "print(f\"Total train data : {x_train.shape}\")\n",
        "print(f\"Total test data : {x_test.shape}\")"
      ],
      "metadata": {
        "colab": {
          "base_uri": "https://localhost:8080/"
        },
        "id": "s3SnXr501Pl6",
        "outputId": "06e28ac1-7cde-41fb-8da0-76071f4bdbd8"
      },
      "execution_count": null,
      "outputs": [
        {
          "output_type": "stream",
          "name": "stdout",
          "text": [
            "Total train data : (1070, 609)\n",
            "Total test data : (268, 609)\n"
          ]
        }
      ]
    },
    {
      "cell_type": "code",
      "source": [
        "# Buat dan train model\n",
        "model = LinearRegression()\n",
        "model.fit(x_train, y_train)"
      ],
      "metadata": {
        "colab": {
          "base_uri": "https://localhost:8080/",
          "height": 74
        },
        "id": "TX5S9e2y2lK-",
        "outputId": "ad225ed7-cd92-4922-ba15-ed6c3822c5da"
      },
      "execution_count": null,
      "outputs": [
        {
          "output_type": "execute_result",
          "data": {
            "text/plain": [
              "LinearRegression()"
            ],
            "text/html": [
              "<style>#sk-container-id-1 {color: black;background-color: white;}#sk-container-id-1 pre{padding: 0;}#sk-container-id-1 div.sk-toggleable {background-color: white;}#sk-container-id-1 label.sk-toggleable__label {cursor: pointer;display: block;width: 100%;margin-bottom: 0;padding: 0.3em;box-sizing: border-box;text-align: center;}#sk-container-id-1 label.sk-toggleable__label-arrow:before {content: \"▸\";float: left;margin-right: 0.25em;color: #696969;}#sk-container-id-1 label.sk-toggleable__label-arrow:hover:before {color: black;}#sk-container-id-1 div.sk-estimator:hover label.sk-toggleable__label-arrow:before {color: black;}#sk-container-id-1 div.sk-toggleable__content {max-height: 0;max-width: 0;overflow: hidden;text-align: left;background-color: #f0f8ff;}#sk-container-id-1 div.sk-toggleable__content pre {margin: 0.2em;color: black;border-radius: 0.25em;background-color: #f0f8ff;}#sk-container-id-1 input.sk-toggleable__control:checked~div.sk-toggleable__content {max-height: 200px;max-width: 100%;overflow: auto;}#sk-container-id-1 input.sk-toggleable__control:checked~label.sk-toggleable__label-arrow:before {content: \"▾\";}#sk-container-id-1 div.sk-estimator input.sk-toggleable__control:checked~label.sk-toggleable__label {background-color: #d4ebff;}#sk-container-id-1 div.sk-label input.sk-toggleable__control:checked~label.sk-toggleable__label {background-color: #d4ebff;}#sk-container-id-1 input.sk-hidden--visually {border: 0;clip: rect(1px 1px 1px 1px);clip: rect(1px, 1px, 1px, 1px);height: 1px;margin: -1px;overflow: hidden;padding: 0;position: absolute;width: 1px;}#sk-container-id-1 div.sk-estimator {font-family: monospace;background-color: #f0f8ff;border: 1px dotted black;border-radius: 0.25em;box-sizing: border-box;margin-bottom: 0.5em;}#sk-container-id-1 div.sk-estimator:hover {background-color: #d4ebff;}#sk-container-id-1 div.sk-parallel-item::after {content: \"\";width: 100%;border-bottom: 1px solid gray;flex-grow: 1;}#sk-container-id-1 div.sk-label:hover label.sk-toggleable__label {background-color: #d4ebff;}#sk-container-id-1 div.sk-serial::before {content: \"\";position: absolute;border-left: 1px solid gray;box-sizing: border-box;top: 0;bottom: 0;left: 50%;z-index: 0;}#sk-container-id-1 div.sk-serial {display: flex;flex-direction: column;align-items: center;background-color: white;padding-right: 0.2em;padding-left: 0.2em;position: relative;}#sk-container-id-1 div.sk-item {position: relative;z-index: 1;}#sk-container-id-1 div.sk-parallel {display: flex;align-items: stretch;justify-content: center;background-color: white;position: relative;}#sk-container-id-1 div.sk-item::before, #sk-container-id-1 div.sk-parallel-item::before {content: \"\";position: absolute;border-left: 1px solid gray;box-sizing: border-box;top: 0;bottom: 0;left: 50%;z-index: -1;}#sk-container-id-1 div.sk-parallel-item {display: flex;flex-direction: column;z-index: 1;position: relative;background-color: white;}#sk-container-id-1 div.sk-parallel-item:first-child::after {align-self: flex-end;width: 50%;}#sk-container-id-1 div.sk-parallel-item:last-child::after {align-self: flex-start;width: 50%;}#sk-container-id-1 div.sk-parallel-item:only-child::after {width: 0;}#sk-container-id-1 div.sk-dashed-wrapped {border: 1px dashed gray;margin: 0 0.4em 0.5em 0.4em;box-sizing: border-box;padding-bottom: 0.4em;background-color: white;}#sk-container-id-1 div.sk-label label {font-family: monospace;font-weight: bold;display: inline-block;line-height: 1.2em;}#sk-container-id-1 div.sk-label-container {text-align: center;}#sk-container-id-1 div.sk-container {/* jupyter's `normalize.less` sets `[hidden] { display: none; }` but bootstrap.min.css set `[hidden] { display: none !important; }` so we also need the `!important` here to be able to override the default hidden behavior on the sphinx rendered scikit-learn.org. See: https://github.com/scikit-learn/scikit-learn/issues/21755 */display: inline-block !important;position: relative;}#sk-container-id-1 div.sk-text-repr-fallback {display: none;}</style><div id=\"sk-container-id-1\" class=\"sk-top-container\"><div class=\"sk-text-repr-fallback\"><pre>LinearRegression()</pre><b>In a Jupyter environment, please rerun this cell to show the HTML representation or trust the notebook. <br />On GitHub, the HTML representation is unable to render, please try loading this page with nbviewer.org.</b></div><div class=\"sk-container\" hidden><div class=\"sk-item\"><div class=\"sk-estimator sk-toggleable\"><input class=\"sk-toggleable__control sk-hidden--visually\" id=\"sk-estimator-id-1\" type=\"checkbox\" checked><label for=\"sk-estimator-id-1\" class=\"sk-toggleable__label sk-toggleable__label-arrow\">LinearRegression</label><div class=\"sk-toggleable__content\"><pre>LinearRegression()</pre></div></div></div></div></div>"
            ]
          },
          "metadata": {},
          "execution_count": 12
        }
      ]
    },
    {
      "cell_type": "code",
      "source": [
        "#test\n",
        "y_pred = model.predict(x_test)"
      ],
      "metadata": {
        "id": "5WEw2NOX2rd1"
      },
      "execution_count": null,
      "outputs": []
    },
    {
      "cell_type": "code",
      "source": [
        "from sklearn.decomposition import TruncatedSVD\n",
        "\n",
        "# Create a TruncatedSVD object, specifying the desired number of components (2 for visualization)\n",
        "svd = TruncatedSVD(n_components=2)\n",
        "\n",
        "# Fit the TruncatedSVD model to X_test (sparse matrix)\n",
        "pca_data = svd.fit_transform(x_test)\n",
        "\n",
        "# Now, pca_data will have the shape (268, 2), containing the projected data onto the first two components\n",
        "\n",
        "# Plot the scatter plot\n",
        "plt.scatter(pca_data[:, 0], y_test, cmap='viridis', label='Actual Values')\n",
        "plt.scatter(pca_data[:, 0], y_pred, cmap='coolwarm', label='Predicted Values')\n",
        "plt.legend()\n",
        "plt.title('Linear Regression: Actual vs. Predicted Values')\n",
        "plt.show('Regression: Actual vs. Predicted Values')\n",
        "plt.show()"
      ],
      "metadata": {
        "colab": {
          "base_uri": "https://localhost:8080/",
          "height": 525
        },
        "id": "eqaQV1W_3YGD",
        "outputId": "c5e73914-9ef3-4a70-ee37-8328b1babf6b"
      },
      "execution_count": null,
      "outputs": [
        {
          "output_type": "stream",
          "name": "stderr",
          "text": [
            "<ipython-input-49-bdf854ef4703>:12: UserWarning: No data for colormapping provided via 'c'. Parameters 'cmap' will be ignored\n",
            "  plt.scatter(pca_data[:, 0], y_test, cmap='viridis', label='Actual Values')\n",
            "<ipython-input-49-bdf854ef4703>:13: UserWarning: No data for colormapping provided via 'c'. Parameters 'cmap' will be ignored\n",
            "  plt.scatter(pca_data[:, 0], y_pred, cmap='coolwarm', label='Predicted Values')\n"
          ]
        },
        {
          "output_type": "display_data",
          "data": {
            "text/plain": [
              "<Figure size 640x480 with 1 Axes>"
            ],
            "image/png": "[encoded data removed]"
          },
          "metadata": {}
        }
      ]
    },
    {
      "cell_type": "markdown",
      "source": [
        "##Evaluation"
      ],
      "metadata": {
        "id": "1T9QpOEUBfdP"
      }
    },
    {
      "cell_type": "code",
      "source": [
        "from sklearn.metrics import mean_absolute_error, mean_squared_error\n",
        "\n",
        "# Mean Absolute Error (MAE)\n",
        "mae = mean_absolute_error(y_test, y_pred)\n",
        "print(f\"Nilai MAE : {mae}\")\n",
        "\n",
        "# Root Mean Squared Error (RMSE)\n",
        "rmse = mean_squared_error(y_test, y_pred) ** 0.5  # Square root of MSE\n",
        "print(f\"Nilai RMSE : {rmse}\")\n",
        "\n",
        "# Mean Squared Error (MSE)\n",
        "mse = mean_squared_error(y_test, y_pred)\n",
        "print(f\"Nilai MSE : {mse}\")"
      ],
      "metadata": {
        "colab": {
          "base_uri": "https://localhost:8080/"
        },
        "id": "kndMvi1iBTil",
        "outputId": "f7dd75f2-0abe-42e6-d3e4-93a930a9f2be"
      },
      "execution_count": null,
      "outputs": [
        {
          "output_type": "stream",
          "name": "stdout",
          "text": [
            "Nilai MAE : 5312.22545085434\n",
            "Nilai RMSE : 7503.392469612617\n",
            "Nilai MSE : 56300898.55303932\n"
          ]
        }
      ]
    },
    {
      "cell_type": "markdown",
      "source": [
        "##ANN\n",
        "\n"
      ],
      "metadata": {
        "id": "Qx7uaSnjKrW0"
      }
    },
    {
      "cell_type": "code",
      "source": [
        "from keras.models import Sequential\n",
        "from sklearn.model_selection import train_test_split\n",
        "from keras import models, layers, optimizers"
      ],
      "metadata": {
        "id": "bHxR1oCDOTlx"
      },
      "execution_count": null,
      "outputs": []
    },
    {
      "cell_type": "code",
      "source": [
        "# load csv file using pandas\n",
        "df = pd.read_csv(path)\n",
        "\n",
        "# data shape (row, columns)\n",
        "df.shape"
      ],
      "metadata": {
        "colab": {
          "base_uri": "https://localhost:8080/"
        },
        "id": "mJMUQWaVK88m",
        "outputId": "fb2b5545-d71d-457b-861e-21673e020d11"
      },
      "execution_count": null,
      "outputs": [
        {
          "output_type": "execute_result",
          "data": {
            "text/plain": [
              "(1338, 7)"
            ]
          },
          "metadata": {},
          "execution_count": 98
        }
      ]
    },
    {
      "cell_type": "code",
      "source": [
        "x = df.iloc[:,:6]\n",
        "y = df.iloc[:,6:]\n",
        "print(x.shape)\n",
        "print(y.shape)"
      ],
      "metadata": {
        "colab": {
          "base_uri": "https://localhost:8080/"
        },
        "id": "q7UWdwS2LD7W",
        "outputId": "94c2929e-053f-4c0d-f5da-6f70172502e6"
      },
      "execution_count": null,
      "outputs": [
        {
          "output_type": "stream",
          "name": "stdout",
          "text": [
            "(1338, 6)\n",
            "(1338, 1)\n"
          ]
        }
      ]
    },
    {
      "cell_type": "code",
      "source": [
        "encoder = OneHotEncoder(sparse=False)  # Set sparse=False for dense output\n",
        "x_encoded = encoder.fit_transform(x)\n",
        "len(x_encoded)"
      ],
      "metadata": {
        "colab": {
          "base_uri": "https://localhost:8080/"
        },
        "id": "Afn7L9a4PGrC",
        "outputId": "93315cf3-d822-419c-dfda-fc558c11194a"
      },
      "execution_count": null,
      "outputs": [
        {
          "output_type": "stream",
          "name": "stderr",
          "text": [
            "/usr/local/lib/python3.10/dist-packages/sklearn/preprocessing/_encoders.py:868: FutureWarning: `sparse` was renamed to `sparse_output` in version 1.2 and will be removed in 1.4. `sparse_output` is ignored unless you leave `sparse` to its default value.\n",
            "  warnings.warn(\n"
          ]
        },
        {
          "output_type": "execute_result",
          "data": {
            "text/plain": [
              "1338"
            ]
          },
          "metadata": {},
          "execution_count": 100
        }
      ]
    },
    {
      "cell_type": "code",
      "source": [
        "x_train, x_test, y_train, y_test = train_test_split(\n",
        "    x_encoded, y, test_size=0.2, random_state=42)\n",
        "\n",
        "print(f\"Total train data : {x_train.shape}\")\n",
        "print(f\"Total test data : {x_test.shape}\")"
      ],
      "metadata": {
        "colab": {
          "base_uri": "https://localhost:8080/"
        },
        "id": "AkAbxywxOW7h",
        "outputId": "f42aaa5f-dac9-4975-cc32-fe92aaa3ed6e"
      },
      "execution_count": null,
      "outputs": [
        {
          "output_type": "stream",
          "name": "stdout",
          "text": [
            "Total train data : (1070, 609)\n",
            "Total test data : (268, 609)\n"
          ]
        }
      ]
    },
    {
      "cell_type": "code",
      "source": [
        "network = models.Sequential()\n",
        "network.add(layers.Dense(24, activation='relu', input_shape=(609,)))\n",
        "network.add(layers.Dense(32, activation='relu'))\n",
        "network.add(layers.Dense(1))"
      ],
      "metadata": {
        "id": "8HernrjnMKil"
      },
      "execution_count": null,
      "outputs": []
    },
    {
      "cell_type": "code",
      "source": [
        "# evaluate model\n",
        "network.compile(loss='mse', optimizer='adam', metrics=['mae'])"
      ],
      "metadata": {
        "id": "BFrtwDfjOIno"
      },
      "execution_count": null,
      "outputs": []
    },
    {
      "cell_type": "code",
      "source": [
        "history = network.fit(x_train, y_train, epochs=150, batch_size=50,  verbose=1, validation_split=0.2)"
      ],
      "metadata": {
        "colab": {
          "base_uri": "https://localhost:8080/"
        },
        "id": "RUvqkY4bPS1o",
        "outputId": "1676c615-d171-4f9f-a1e6-20d335452b3e"
      },
      "execution_count": null,
      "outputs": [
        {
          "output_type": "stream",
          "name": "stdout",
          "text": [
            "Epoch 1/150\n",
            "18/18 [==============================] - 0s 14ms/step - loss: 67646936.0000 - mae: 6222.0576 - val_loss: 88873264.0000 - val_mae: 7036.0327\n",
            "Epoch 2/150\n",
            "18/18 [==============================] - 0s 6ms/step - loss: 66899072.0000 - mae: 6199.0547 - val_loss: 88164176.0000 - val_mae: 7006.2676\n",
            "Epoch 3/150\n",
            "18/18 [==============================] - 0s 5ms/step - loss: 66170948.0000 - mae: 6175.0781 - val_loss: 87456360.0000 - val_mae: 6980.8950\n",
            "Epoch 4/150\n",
            "18/18 [==============================] - 0s 5ms/step - loss: 65434956.0000 - mae: 6143.0806 - val_loss: 86756952.0000 - val_mae: 6945.4990\n",
            "Epoch 5/150\n",
            "18/18 [==============================] - 0s 5ms/step - loss: 64715776.0000 - mae: 6098.1299 - val_loss: 86085088.0000 - val_mae: 6899.7002\n",
            "Epoch 6/150\n",
            "18/18 [==============================] - 0s 5ms/step - loss: 64036360.0000 - mae: 6048.4551 - val_loss: 85413992.0000 - val_mae: 6859.5220\n",
            "Epoch 7/150\n",
            "18/18 [==============================] - 0s 4ms/step - loss: 63366272.0000 - mae: 6017.5786 - val_loss: 84772584.0000 - val_mae: 6836.3491\n",
            "Epoch 8/150\n",
            "18/18 [==============================] - 0s 6ms/step - loss: 62653004.0000 - mae: 5977.3960 - val_loss: 84092296.0000 - val_mae: 6793.5449\n",
            "Epoch 9/150\n",
            "18/18 [==============================] - 0s 5ms/step - loss: 61972912.0000 - mae: 5948.1685 - val_loss: 83454144.0000 - val_mae: 6773.5854\n",
            "Epoch 10/150\n",
            "18/18 [==============================] - 0s 5ms/step - loss: 61292244.0000 - mae: 5910.8442 - val_loss: 82793096.0000 - val_mae: 6731.6943\n",
            "Epoch 11/150\n",
            "18/18 [==============================] - 0s 5ms/step - loss: 60631948.0000 - mae: 5865.0962 - val_loss: 82140544.0000 - val_mae: 6691.1436\n",
            "Epoch 12/150\n",
            "18/18 [==============================] - 0s 6ms/step - loss: 59936520.0000 - mae: 5831.6953 - val_loss: 81458048.0000 - val_mae: 6666.2720\n",
            "Epoch 13/150\n",
            "18/18 [==============================] - 0s 5ms/step - loss: 59256392.0000 - mae: 5808.7207 - val_loss: 80808816.0000 - val_mae: 6644.4224\n",
            "Epoch 14/150\n",
            "18/18 [==============================] - 0s 6ms/step - loss: 58558104.0000 - mae: 5802.3359 - val_loss: 80090024.0000 - val_mae: 6643.0771\n",
            "Epoch 15/150\n",
            "18/18 [==============================] - 0s 5ms/step - loss: 57857852.0000 - mae: 5772.2344 - val_loss: 79432680.0000 - val_mae: 6600.4829\n",
            "Epoch 16/150\n",
            "18/18 [==============================] - 0s 5ms/step - loss: 57193780.0000 - mae: 5733.0864 - val_loss: 78747048.0000 - val_mae: 6571.8267\n",
            "Epoch 17/150\n",
            "18/18 [==============================] - 0s 5ms/step - loss: 56539520.0000 - mae: 5699.1538 - val_loss: 78111032.0000 - val_mae: 6542.7988\n",
            "Epoch 18/150\n",
            "18/18 [==============================] - 0s 6ms/step - loss: 55908636.0000 - mae: 5656.4404 - val_loss: 77487904.0000 - val_mae: 6497.0977\n",
            "Epoch 19/150\n",
            "18/18 [==============================] - 0s 5ms/step - loss: 55298448.0000 - mae: 5607.5894 - val_loss: 76867112.0000 - val_mae: 6457.8340\n",
            "Epoch 20/150\n",
            "18/18 [==============================] - 0s 5ms/step - loss: 54652424.0000 - mae: 5572.1797 - val_loss: 76249240.0000 - val_mae: 6438.2612\n",
            "Epoch 21/150\n",
            "18/18 [==============================] - 0s 6ms/step - loss: 54038968.0000 - mae: 5556.1924 - val_loss: 75644672.0000 - val_mae: 6427.6567\n",
            "Epoch 22/150\n",
            "18/18 [==============================] - 0s 5ms/step - loss: 53415152.0000 - mae: 5520.2256 - val_loss: 75051624.0000 - val_mae: 6392.1406\n",
            "Epoch 23/150\n",
            "18/18 [==============================] - 0s 6ms/step - loss: 52822676.0000 - mae: 5480.1313 - val_loss: 74494952.0000 - val_mae: 6364.6211\n",
            "Epoch 24/150\n",
            "18/18 [==============================] - 0s 6ms/step - loss: 52265644.0000 - mae: 5444.4468 - val_loss: 73860480.0000 - val_mae: 6331.3179\n",
            "Epoch 25/150\n",
            "18/18 [==============================] - 0s 5ms/step - loss: 51661092.0000 - mae: 5398.1812 - val_loss: 73293608.0000 - val_mae: 6293.2388\n",
            "Epoch 26/150\n",
            "18/18 [==============================] - 0s 5ms/step - loss: 51076604.0000 - mae: 5359.9893 - val_loss: 72688216.0000 - val_mae: 6265.0737\n",
            "Epoch 27/150\n",
            "18/18 [==============================] - 0s 6ms/step - loss: 50501396.0000 - mae: 5322.4082 - val_loss: 72120112.0000 - val_mae: 6234.3838\n",
            "Epoch 28/150\n",
            "18/18 [==============================] - 0s 6ms/step - loss: 49939000.0000 - mae: 5279.2915 - val_loss: 71551320.0000 - val_mae: 6195.0752\n",
            "Epoch 29/150\n",
            "18/18 [==============================] - 0s 5ms/step - loss: 49394720.0000 - mae: 5244.6260 - val_loss: 70990056.0000 - val_mae: 6166.9375\n",
            "Epoch 30/150\n",
            "18/18 [==============================] - 0s 6ms/step - loss: 48839752.0000 - mae: 5208.3784 - val_loss: 70445704.0000 - val_mae: 6141.6064\n",
            "Epoch 31/150\n",
            "18/18 [==============================] - 0s 5ms/step - loss: 48291452.0000 - mae: 5178.2998 - val_loss: 69898320.0000 - val_mae: 6116.3042\n",
            "Epoch 32/150\n",
            "18/18 [==============================] - 0s 5ms/step - loss: 47756792.0000 - mae: 5155.4277 - val_loss: 69313688.0000 - val_mae: 6103.7002\n",
            "Epoch 33/150\n",
            "18/18 [==============================] - 0s 5ms/step - loss: 47207864.0000 - mae: 5135.0659 - val_loss: 68703576.0000 - val_mae: 6084.3066\n",
            "Epoch 34/150\n",
            "18/18 [==============================] - 0s 4ms/step - loss: 46650864.0000 - mae: 5096.3306 - val_loss: 68172832.0000 - val_mae: 6050.8423\n",
            "Epoch 35/150\n",
            "18/18 [==============================] - 0s 4ms/step - loss: 46115984.0000 - mae: 5066.8745 - val_loss: 67573000.0000 - val_mae: 6031.1216\n",
            "Epoch 36/150\n",
            "18/18 [==============================] - 0s 6ms/step - loss: 45579384.0000 - mae: 5052.1377 - val_loss: 67013684.0000 - val_mae: 6019.5947\n",
            "Epoch 37/150\n",
            "18/18 [==============================] - 0s 5ms/step - loss: 45043184.0000 - mae: 5017.0835 - val_loss: 66479152.0000 - val_mae: 5988.0894\n",
            "Epoch 38/150\n",
            "18/18 [==============================] - 0s 5ms/step - loss: 44515104.0000 - mae: 4985.2539 - val_loss: 65938040.0000 - val_mae: 5958.0059\n",
            "Epoch 39/150\n",
            "18/18 [==============================] - 0s 4ms/step - loss: 44029312.0000 - mae: 4952.2329 - val_loss: 65413264.0000 - val_mae: 5924.3237\n",
            "Epoch 40/150\n",
            "18/18 [==============================] - 0s 5ms/step - loss: 43572000.0000 - mae: 4911.6982 - val_loss: 64923676.0000 - val_mae: 5885.8887\n",
            "Epoch 41/150\n",
            "18/18 [==============================] - 0s 5ms/step - loss: 43099816.0000 - mae: 4884.6050 - val_loss: 64443572.0000 - val_mae: 5871.7412\n",
            "Epoch 42/150\n",
            "18/18 [==============================] - 0s 5ms/step - loss: 42649164.0000 - mae: 4863.3921 - val_loss: 63982964.0000 - val_mae: 5851.9814\n",
            "Epoch 43/150\n",
            "18/18 [==============================] - 0s 4ms/step - loss: 42209060.0000 - mae: 4846.0239 - val_loss: 63461288.0000 - val_mae: 5838.3662\n",
            "Epoch 44/150\n",
            "18/18 [==============================] - 0s 5ms/step - loss: 41779624.0000 - mae: 4813.9868 - val_loss: 62987508.0000 - val_mae: 5795.1079\n",
            "Epoch 45/150\n",
            "18/18 [==============================] - 0s 5ms/step - loss: 41374212.0000 - mae: 4772.0293 - val_loss: 62543404.0000 - val_mae: 5760.3716\n",
            "Epoch 46/150\n",
            "18/18 [==============================] - 0s 5ms/step - loss: 40974340.0000 - mae: 4737.0693 - val_loss: 62127504.0000 - val_mae: 5730.3643\n",
            "Epoch 47/150\n",
            "18/18 [==============================] - 0s 6ms/step - loss: 40584856.0000 - mae: 4704.1509 - val_loss: 61698556.0000 - val_mae: 5692.9546\n",
            "Epoch 48/150\n",
            "18/18 [==============================] - 0s 6ms/step - loss: 40197128.0000 - mae: 4669.6113 - val_loss: 61303580.0000 - val_mae: 5658.2256\n",
            "Epoch 49/150\n",
            "18/18 [==============================] - 0s 6ms/step - loss: 39846520.0000 - mae: 4641.0137 - val_loss: 60889304.0000 - val_mae: 5631.2646\n",
            "Epoch 50/150\n",
            "18/18 [==============================] - 0s 5ms/step - loss: 39467748.0000 - mae: 4609.7939 - val_loss: 60509032.0000 - val_mae: 5600.8462\n",
            "Epoch 51/150\n",
            "18/18 [==============================] - 0s 5ms/step - loss: 39116060.0000 - mae: 4585.1270 - val_loss: 60112388.0000 - val_mae: 5578.3101\n",
            "Epoch 52/150\n",
            "18/18 [==============================] - 0s 5ms/step - loss: 38761460.0000 - mae: 4561.1260 - val_loss: 59720664.0000 - val_mae: 5557.9604\n",
            "Epoch 53/150\n",
            "18/18 [==============================] - 0s 5ms/step - loss: 38406980.0000 - mae: 4539.8896 - val_loss: 59306976.0000 - val_mae: 5540.2026\n",
            "Epoch 54/150\n",
            "18/18 [==============================] - 0s 5ms/step - loss: 38039616.0000 - mae: 4528.9453 - val_loss: 58899308.0000 - val_mae: 5534.8550\n",
            "Epoch 55/150\n",
            "18/18 [==============================] - 0s 5ms/step - loss: 37715300.0000 - mae: 4508.4946 - val_loss: 58550320.0000 - val_mae: 5510.4502\n",
            "Epoch 56/150\n",
            "18/18 [==============================] - 0s 6ms/step - loss: 37411420.0000 - mae: 4495.6348 - val_loss: 58148280.0000 - val_mae: 5498.5293\n",
            "Epoch 57/150\n",
            "18/18 [==============================] - 0s 6ms/step - loss: 37069768.0000 - mae: 4463.9175 - val_loss: 57864796.0000 - val_mae: 5464.8218\n",
            "Epoch 58/150\n",
            "18/18 [==============================] - 0s 6ms/step - loss: 36785680.0000 - mae: 4440.5830 - val_loss: 57538780.0000 - val_mae: 5450.2261\n",
            "Epoch 59/150\n",
            "18/18 [==============================] - 0s 5ms/step - loss: 36479128.0000 - mae: 4423.9360 - val_loss: 57186160.0000 - val_mae: 5431.6343\n",
            "Epoch 60/150\n",
            "18/18 [==============================] - 0s 5ms/step - loss: 36178780.0000 - mae: 4402.0825 - val_loss: 56850792.0000 - val_mae: 5416.9116\n",
            "Epoch 61/150\n",
            "18/18 [==============================] - 0s 5ms/step - loss: 35884708.0000 - mae: 4389.1382 - val_loss: 56492088.0000 - val_mae: 5407.4463\n",
            "Epoch 62/150\n",
            "18/18 [==============================] - 0s 5ms/step - loss: 35601784.0000 - mae: 4366.3530 - val_loss: 56236148.0000 - val_mae: 5381.3755\n",
            "Epoch 63/150\n",
            "18/18 [==============================] - 0s 5ms/step - loss: 35358676.0000 - mae: 4343.3574 - val_loss: 55944688.0000 - val_mae: 5360.7612\n",
            "Epoch 64/150\n",
            "18/18 [==============================] - 0s 5ms/step - loss: 35101948.0000 - mae: 4311.8184 - val_loss: 55673632.0000 - val_mae: 5336.2476\n",
            "Epoch 65/150\n",
            "18/18 [==============================] - 0s 5ms/step - loss: 34860192.0000 - mae: 4291.8818 - val_loss: 55424284.0000 - val_mae: 5319.1470\n",
            "Epoch 66/150\n",
            "18/18 [==============================] - 0s 5ms/step - loss: 34639704.0000 - mae: 4267.2417 - val_loss: 55206396.0000 - val_mae: 5304.2607\n",
            "Epoch 67/150\n",
            "18/18 [==============================] - 0s 5ms/step - loss: 34405308.0000 - mae: 4260.7271 - val_loss: 54890992.0000 - val_mae: 5304.1377\n",
            "Epoch 68/150\n",
            "18/18 [==============================] - 0s 5ms/step - loss: 34151604.0000 - mae: 4252.4482 - val_loss: 54558680.0000 - val_mae: 5294.9346\n",
            "Epoch 69/150\n",
            "18/18 [==============================] - 0s 6ms/step - loss: 33919728.0000 - mae: 4239.9922 - val_loss: 54280140.0000 - val_mae: 5280.5186\n",
            "Epoch 70/150\n",
            "18/18 [==============================] - 0s 5ms/step - loss: 33697560.0000 - mae: 4211.8569 - val_loss: 54112524.0000 - val_mae: 5250.6074\n",
            "Epoch 71/150\n",
            "18/18 [==============================] - 0s 5ms/step - loss: 33520228.0000 - mae: 4179.3047 - val_loss: 53923392.0000 - val_mae: 5222.0190\n",
            "Epoch 72/150\n",
            "18/18 [==============================] - 0s 5ms/step - loss: 33303098.0000 - mae: 4159.6216 - val_loss: 53661664.0000 - val_mae: 5215.0781\n",
            "Epoch 73/150\n",
            "18/18 [==============================] - 0s 5ms/step - loss: 33116904.0000 - mae: 4145.7207 - val_loss: 53423744.0000 - val_mae: 5197.6284\n",
            "Epoch 74/150\n",
            "18/18 [==============================] - 0s 4ms/step - loss: 32941798.0000 - mae: 4120.6836 - val_loss: 53245096.0000 - val_mae: 5171.2109\n",
            "Epoch 75/150\n",
            "18/18 [==============================] - 0s 5ms/step - loss: 32747054.0000 - mae: 4104.8174 - val_loss: 53031824.0000 - val_mae: 5160.0396\n",
            "Epoch 76/150\n",
            "18/18 [==============================] - 0s 5ms/step - loss: 32573744.0000 - mae: 4089.8779 - val_loss: 52828300.0000 - val_mae: 5147.4312\n",
            "Epoch 77/150\n",
            "18/18 [==============================] - 0s 4ms/step - loss: 32405564.0000 - mae: 4073.1716 - val_loss: 52656512.0000 - val_mae: 5132.9741\n",
            "Epoch 78/150\n",
            "18/18 [==============================] - 0s 5ms/step - loss: 32237900.0000 - mae: 4062.7966 - val_loss: 52458256.0000 - val_mae: 5128.4653\n",
            "Epoch 79/150\n",
            "18/18 [==============================] - 0s 6ms/step - loss: 32070670.0000 - mae: 4053.7854 - val_loss: 52238824.0000 - val_mae: 5120.7500\n",
            "Epoch 80/150\n",
            "18/18 [==============================] - 0s 5ms/step - loss: 31916128.0000 - mae: 4038.2065 - val_loss: 52093552.0000 - val_mae: 5106.1660\n",
            "Epoch 81/150\n",
            "18/18 [==============================] - 0s 4ms/step - loss: 31763696.0000 - mae: 4019.0198 - val_loss: 51976952.0000 - val_mae: 5089.8203\n",
            "Epoch 82/150\n",
            "18/18 [==============================] - 0s 6ms/step - loss: 31616634.0000 - mae: 4006.0300 - val_loss: 51808132.0000 - val_mae: 5082.0981\n",
            "Epoch 83/150\n",
            "18/18 [==============================] - 0s 5ms/step - loss: 31467238.0000 - mae: 3994.2632 - val_loss: 51660924.0000 - val_mae: 5072.8281\n",
            "Epoch 84/150\n",
            "18/18 [==============================] - 0s 5ms/step - loss: 31326770.0000 - mae: 3982.8433 - val_loss: 51484884.0000 - val_mae: 5062.0146\n",
            "Epoch 85/150\n",
            "18/18 [==============================] - 0s 5ms/step - loss: 31193676.0000 - mae: 3967.5798 - val_loss: 51320152.0000 - val_mae: 5049.4639\n",
            "Epoch 86/150\n",
            "18/18 [==============================] - 0s 5ms/step - loss: 31056760.0000 - mae: 3953.6992 - val_loss: 51190128.0000 - val_mae: 5036.8926\n",
            "Epoch 87/150\n",
            "18/18 [==============================] - 0s 5ms/step - loss: 30930372.0000 - mae: 3936.7087 - val_loss: 51066816.0000 - val_mae: 5026.3877\n",
            "Epoch 88/150\n",
            "18/18 [==============================] - 0s 4ms/step - loss: 30788556.0000 - mae: 3932.8123 - val_loss: 50837556.0000 - val_mae: 5030.2085\n",
            "Epoch 89/150\n",
            "18/18 [==============================] - 0s 5ms/step - loss: 30640654.0000 - mae: 3923.2759 - val_loss: 50725628.0000 - val_mae: 5018.5874\n",
            "Epoch 90/150\n",
            "18/18 [==============================] - 0s 5ms/step - loss: 30534316.0000 - mae: 3911.4414 - val_loss: 50592240.0000 - val_mae: 5009.8623\n",
            "Epoch 91/150\n",
            "18/18 [==============================] - 0s 7ms/step - loss: 30412884.0000 - mae: 3898.7607 - val_loss: 50507184.0000 - val_mae: 4997.0005\n",
            "Epoch 92/150\n",
            "18/18 [==============================] - 0s 5ms/step - loss: 30291846.0000 - mae: 3885.6458 - val_loss: 50393580.0000 - val_mae: 4989.3950\n",
            "Epoch 93/150\n",
            "18/18 [==============================] - 0s 5ms/step - loss: 30188722.0000 - mae: 3876.8926 - val_loss: 50274524.0000 - val_mae: 4981.1870\n",
            "Epoch 94/150\n",
            "18/18 [==============================] - 0s 5ms/step - loss: 30075558.0000 - mae: 3863.5452 - val_loss: 50197304.0000 - val_mae: 4970.5376\n",
            "Epoch 95/150\n",
            "18/18 [==============================] - 0s 4ms/step - loss: 29970140.0000 - mae: 3851.8381 - val_loss: 50109640.0000 - val_mae: 4962.6577\n",
            "Epoch 96/150\n",
            "18/18 [==============================] - 0s 4ms/step - loss: 29864714.0000 - mae: 3845.5300 - val_loss: 49937896.0000 - val_mae: 4962.7476\n",
            "Epoch 97/150\n",
            "18/18 [==============================] - 0s 6ms/step - loss: 29748844.0000 - mae: 3839.6411 - val_loss: 49827736.0000 - val_mae: 4961.5991\n",
            "Epoch 98/150\n",
            "18/18 [==============================] - 0s 5ms/step - loss: 29640158.0000 - mae: 3830.5942 - val_loss: 49735508.0000 - val_mae: 4953.7593\n",
            "Epoch 99/150\n",
            "18/18 [==============================] - 0s 5ms/step - loss: 29539682.0000 - mae: 3824.3257 - val_loss: 49594488.0000 - val_mae: 4949.8076\n",
            "Epoch 100/150\n",
            "18/18 [==============================] - 0s 5ms/step - loss: 29436408.0000 - mae: 3811.0159 - val_loss: 49523856.0000 - val_mae: 4936.4839\n",
            "Epoch 101/150\n",
            "18/18 [==============================] - 0s 5ms/step - loss: 29338060.0000 - mae: 3800.1780 - val_loss: 49443236.0000 - val_mae: 4927.7207\n",
            "Epoch 102/150\n",
            "18/18 [==============================] - 0s 5ms/step - loss: 29248218.0000 - mae: 3788.2114 - val_loss: 49403044.0000 - val_mae: 4914.7891\n",
            "Epoch 103/150\n",
            "18/18 [==============================] - 0s 7ms/step - loss: 29153666.0000 - mae: 3776.1562 - val_loss: 49313324.0000 - val_mae: 4907.1260\n",
            "Epoch 104/150\n",
            "18/18 [==============================] - 0s 7ms/step - loss: 29060002.0000 - mae: 3766.5427 - val_loss: 49218580.0000 - val_mae: 4900.9795\n",
            "Epoch 105/150\n",
            "18/18 [==============================] - 0s 7ms/step - loss: 28960126.0000 - mae: 3761.4336 - val_loss: 49144416.0000 - val_mae: 4903.3940\n",
            "Epoch 106/150\n",
            "18/18 [==============================] - 0s 6ms/step - loss: 28876012.0000 - mae: 3754.5103 - val_loss: 49051744.0000 - val_mae: 4898.0386\n",
            "Epoch 107/150\n",
            "18/18 [==============================] - 0s 7ms/step - loss: 28793872.0000 - mae: 3746.1211 - val_loss: 49011960.0000 - val_mae: 4889.7358\n",
            "Epoch 108/150\n",
            "18/18 [==============================] - 0s 8ms/step - loss: 28706430.0000 - mae: 3732.7773 - val_loss: 48976284.0000 - val_mae: 4876.5039\n",
            "Epoch 109/150\n",
            "18/18 [==============================] - 0s 8ms/step - loss: 28634632.0000 - mae: 3720.6106 - val_loss: 48942648.0000 - val_mae: 4861.0273\n",
            "Epoch 110/150\n",
            "18/18 [==============================] - 0s 7ms/step - loss: 28540258.0000 - mae: 3713.5598 - val_loss: 48823152.0000 - val_mae: 4866.9863\n",
            "Epoch 111/150\n",
            "18/18 [==============================] - 0s 8ms/step - loss: 28455374.0000 - mae: 3707.4045 - val_loss: 48744464.0000 - val_mae: 4856.9453\n",
            "Epoch 112/150\n",
            "18/18 [==============================] - 0s 9ms/step - loss: 28378652.0000 - mae: 3697.8347 - val_loss: 48699592.0000 - val_mae: 4848.8804\n",
            "Epoch 113/150\n",
            "18/18 [==============================] - 0s 8ms/step - loss: 28304970.0000 - mae: 3691.2168 - val_loss: 48644968.0000 - val_mae: 4847.0762\n",
            "Epoch 114/150\n",
            "18/18 [==============================] - 0s 7ms/step - loss: 28223106.0000 - mae: 3684.0154 - val_loss: 48587560.0000 - val_mae: 4844.2490\n",
            "Epoch 115/150\n",
            "18/18 [==============================] - 0s 7ms/step - loss: 28140304.0000 - mae: 3678.5842 - val_loss: 48520332.0000 - val_mae: 4845.3125\n",
            "Epoch 116/150\n",
            "18/18 [==============================] - 0s 9ms/step - loss: 28070936.0000 - mae: 3670.0913 - val_loss: 48487808.0000 - val_mae: 4835.8564\n",
            "Epoch 117/150\n",
            "18/18 [==============================] - 0s 8ms/step - loss: 27986644.0000 - mae: 3661.5862 - val_loss: 48407428.0000 - val_mae: 4830.7725\n",
            "Epoch 118/150\n",
            "18/18 [==============================] - 0s 8ms/step - loss: 27901550.0000 - mae: 3654.6873 - val_loss: 48338572.0000 - val_mae: 4828.7983\n",
            "Epoch 119/150\n",
            "18/18 [==============================] - 0s 8ms/step - loss: 27834424.0000 - mae: 3651.4104 - val_loss: 48282600.0000 - val_mae: 4828.4219\n",
            "Epoch 120/150\n",
            "18/18 [==============================] - 0s 8ms/step - loss: 27747800.0000 - mae: 3642.5547 - val_loss: 48271856.0000 - val_mae: 4817.3682\n",
            "Epoch 121/150\n",
            "18/18 [==============================] - 0s 7ms/step - loss: 27683900.0000 - mae: 3631.3171 - val_loss: 48245220.0000 - val_mae: 4806.4082\n",
            "Epoch 122/150\n",
            "18/18 [==============================] - 0s 10ms/step - loss: 27611458.0000 - mae: 3624.2229 - val_loss: 48227496.0000 - val_mae: 4807.5625\n",
            "Epoch 123/150\n",
            "18/18 [==============================] - 0s 8ms/step - loss: 27548878.0000 - mae: 3617.7068 - val_loss: 48198604.0000 - val_mae: 4803.1729\n",
            "Epoch 124/150\n",
            "18/18 [==============================] - 0s 7ms/step - loss: 27478166.0000 - mae: 3611.9668 - val_loss: 48163668.0000 - val_mae: 4803.3892\n",
            "Epoch 125/150\n",
            "18/18 [==============================] - 0s 7ms/step - loss: 27407808.0000 - mae: 3606.8235 - val_loss: 48093764.0000 - val_mae: 4800.4048\n",
            "Epoch 126/150\n",
            "18/18 [==============================] - 0s 7ms/step - loss: 27342170.0000 - mae: 3602.6477 - val_loss: 48054484.0000 - val_mae: 4801.4272\n",
            "Epoch 127/150\n",
            "18/18 [==============================] - 0s 8ms/step - loss: 27282126.0000 - mae: 3594.0046 - val_loss: 48031896.0000 - val_mae: 4792.2124\n",
            "Epoch 128/150\n",
            "18/18 [==============================] - 0s 8ms/step - loss: 27207842.0000 - mae: 3586.2515 - val_loss: 48008372.0000 - val_mae: 4789.9097\n",
            "Epoch 129/150\n",
            "18/18 [==============================] - 0s 8ms/step - loss: 27138562.0000 - mae: 3583.5566 - val_loss: 47900044.0000 - val_mae: 4799.9111\n",
            "Epoch 130/150\n",
            "18/18 [==============================] - 0s 8ms/step - loss: 27074378.0000 - mae: 3581.3184 - val_loss: 47865896.0000 - val_mae: 4798.1904\n",
            "Epoch 131/150\n",
            "18/18 [==============================] - 0s 7ms/step - loss: 27010990.0000 - mae: 3575.0413 - val_loss: 47850056.0000 - val_mae: 4795.8252\n",
            "Epoch 132/150\n",
            "18/18 [==============================] - 0s 7ms/step - loss: 26950156.0000 - mae: 3568.7659 - val_loss: 47885876.0000 - val_mae: 4792.4038\n",
            "Epoch 133/150\n",
            "18/18 [==============================] - 0s 8ms/step - loss: 26885340.0000 - mae: 3561.8796 - val_loss: 47863704.0000 - val_mae: 4788.4219\n",
            "Epoch 134/150\n",
            "18/18 [==============================] - 0s 7ms/step - loss: 26829116.0000 - mae: 3554.0657 - val_loss: 47856180.0000 - val_mae: 4782.7920\n",
            "Epoch 135/150\n",
            "18/18 [==============================] - 0s 9ms/step - loss: 26762938.0000 - mae: 3549.3381 - val_loss: 47812024.0000 - val_mae: 4784.1348\n",
            "Epoch 136/150\n",
            "18/18 [==============================] - 0s 8ms/step - loss: 26709408.0000 - mae: 3546.7263 - val_loss: 47732380.0000 - val_mae: 4784.7256\n",
            "Epoch 137/150\n",
            "18/18 [==============================] - 0s 8ms/step - loss: 26640338.0000 - mae: 3538.7056 - val_loss: 47732304.0000 - val_mae: 4781.1387\n",
            "Epoch 138/150\n",
            "18/18 [==============================] - 0s 8ms/step - loss: 26576094.0000 - mae: 3532.4719 - val_loss: 47753128.0000 - val_mae: 4776.7642\n",
            "Epoch 139/150\n",
            "18/18 [==============================] - 0s 4ms/step - loss: 26540090.0000 - mae: 3521.5686 - val_loss: 47794596.0000 - val_mae: 4762.1934\n",
            "Epoch 140/150\n",
            "18/18 [==============================] - 0s 5ms/step - loss: 26445016.0000 - mae: 3520.7273 - val_loss: 47718032.0000 - val_mae: 4783.9146\n",
            "Epoch 141/150\n",
            "18/18 [==============================] - 0s 5ms/step - loss: 26393492.0000 - mae: 3527.1714 - val_loss: 47651172.0000 - val_mae: 4801.1099\n",
            "Epoch 142/150\n",
            "18/18 [==============================] - 0s 5ms/step - loss: 26347220.0000 - mae: 3526.9211 - val_loss: 47621968.0000 - val_mae: 4798.3203\n",
            "Epoch 143/150\n",
            "18/18 [==============================] - 0s 5ms/step - loss: 26263304.0000 - mae: 3515.1226 - val_loss: 47651112.0000 - val_mae: 4783.7163\n",
            "Epoch 144/150\n",
            "18/18 [==============================] - 0s 5ms/step - loss: 26212756.0000 - mae: 3505.2515 - val_loss: 47645648.0000 - val_mae: 4781.9678\n",
            "Epoch 145/150\n",
            "18/18 [==============================] - 0s 5ms/step - loss: 26154752.0000 - mae: 3498.3730 - val_loss: 47666356.0000 - val_mae: 4775.6602\n",
            "Epoch 146/150\n",
            "18/18 [==============================] - 0s 5ms/step - loss: 26094132.0000 - mae: 3489.1548 - val_loss: 47690560.0000 - val_mae: 4769.3848\n",
            "Epoch 147/150\n",
            "18/18 [==============================] - 0s 5ms/step - loss: 26042902.0000 - mae: 3483.3096 - val_loss: 47667328.0000 - val_mae: 4768.7466\n",
            "Epoch 148/150\n",
            "18/18 [==============================] - 0s 6ms/step - loss: 25983126.0000 - mae: 3476.4697 - val_loss: 47683732.0000 - val_mae: 4764.8643\n",
            "Epoch 149/150\n",
            "18/18 [==============================] - 0s 5ms/step - loss: 25929798.0000 - mae: 3469.5332 - val_loss: 47660888.0000 - val_mae: 4760.7026\n",
            "Epoch 150/150\n",
            "18/18 [==============================] - 0s 5ms/step - loss: 25885830.0000 - mae: 3462.7734 - val_loss: 47695248.0000 - val_mae: 4752.5337\n"
          ]
        }
      ]
    },
    {
      "cell_type": "code",
      "source": [
        "print(history.history.keys())\n",
        "plt.plot(history.history['loss'])\n",
        "plt.plot(history.history['val_loss'])\n",
        "plt.title('model loss')\n",
        "plt.ylabel('loss')\n",
        "plt.xlabel('epoch')\n",
        "plt.legend(['train', 'validation'], loc='upper left')\n",
        "plt.show()"
      ],
      "metadata": {
        "colab": {
          "base_uri": "https://localhost:8080/",
          "height": 490
        },
        "id": "aMSwud-IPWRK",
        "outputId": "a8ec3932-ae73-45b9-d20b-25e5799c864b"
      },
      "execution_count": null,
      "outputs": [
        {
          "output_type": "stream",
          "name": "stdout",
          "text": [
            "dict_keys(['loss', 'mae', 'val_loss', 'val_mae'])\n"
          ]
        },
        {
          "output_type": "display_data",
          "data": {
            "text/plain": [
              "<Figure size 640x480 with 1 Axes>"
            ],
            "image/png": "[encoded data removed]"
          },
          "metadata": {}
        }
      ]
    },
    {
      "cell_type": "markdown",
      "source": [
        "#Keterangan Pengerjaan\n",
        "\n",
        "Nilai MAE pada ANN semakin membaik dengan epoch yang dilakukan. Algoritma ini dapat terus belajar dan semakin baik tiap kali pelatihan dilakukan. Sedangkan penggunaan Regresi Linear dipilih berdasarkan kesederhanaan guna mempermudah pembelajaran. Meskipun sudah tua, hasil dari evaluasi yang diberikan cukup baik dan tidak terlalu jauh dengan ANN.\n",
        "\n"
      ],
      "metadata": {
        "id": "YaDNf9gZcAm6"
      }
    }
  ]
}